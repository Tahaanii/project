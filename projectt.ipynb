{
  "nbformat": 4,
  "nbformat_minor": 0,
  "metadata": {
    "colab": {
      "name": "projectt.ipynb",
      "provenance": [],
      "collapsed_sections": []
    },
    "kernelspec": {
      "name": "python3",
      "display_name": "Python 3"
    },
    "language_info": {
      "name": "python"
    }
  },
  "cells": [
    {
      "cell_type": "code",
      "metadata": {
        "id": "iZkt80FGZ-Im"
      },
      "source": [
        "from datetime import datetime\n",
        "from datetime import date\n",
        "import pandas as pd\n",
        "import numpy as np\n",
        "import matplotlib.pyplot as plt\n",
        "import seaborn as sns\n",
        "%matplotlib inline"
      ],
      "execution_count": 9,
      "outputs": []
    },
    {
      "cell_type": "code",
      "metadata": {
        "id": "Re-BQOdVaryo"
      },
      "source": [
        "def read_mta(file_nums):\n",
        "    path ='http://web.mta.info/developers/data/nyct/turnstile/turnstile_'\n",
        "    allFiles = []\n",
        "    for i in file_nums:\n",
        "        allFiles.append(path + i + \".txt\")\n",
        "    df_list = [pd.read_csv(file) for file in allFiles]\n",
        "    df = pd.concat(df_list)\n",
        "    df.columns = df.columns.str.strip()\n",
        "    return df"
      ],
      "execution_count": 10,
      "outputs": []
    },
    {
      "cell_type": "code",
      "metadata": {
        "id": "yiJVvT2aa53q"
      },
      "source": [
        "# last 3 months data in 2021\n",
        "df = read_mta(['210703', '210710', '210717', '210724', '210731', '210807', '210814', '210821', '210828', '210904', '210911', '210918', '210925'])"
      ],
      "execution_count": 11,
      "outputs": []
    },
    {
      "cell_type": "code",
      "metadata": {
        "colab": {
          "base_uri": "https://localhost:8080/"
        },
        "id": "is4tMRyjbg1Q",
        "outputId": "4080c6a0-ba50-4718-f07f-12479d5438fd"
      },
      "source": [
        "df.columns"
      ],
      "execution_count": 12,
      "outputs": [
        {
          "output_type": "execute_result",
          "data": {
            "text/plain": [
              "Index(['C/A', 'UNIT', 'SCP', 'STATION', 'LINENAME', 'DIVISION', 'DATE', 'TIME',\n",
              "       'DESC', 'ENTRIES', 'EXITS'],\n",
              "      dtype='object')"
            ]
          },
          "metadata": {},
          "execution_count": 12
        }
      ]
    },
    {
      "cell_type": "code",
      "metadata": {
        "colab": {
          "base_uri": "https://localhost:8080/",
          "height": 206
        },
        "id": "cPX_DoD6br-h",
        "outputId": "49d23b1c-75d5-468a-e6a6-7c7ebf7329f5"
      },
      "source": [
        "# remove duplicates\n",
        "df = df[df.DESC != 'RECOVR AUD']\n",
        "df = df[df.TIME != '04:00:00']\n",
        "# Sanity check to verify that \"C/A\", \"UNIT\", \"SCP\", \"STATION\", \"DATE_TIME\" is unique\n",
        "(df\n",
        " .groupby(['C/A', 'UNIT', 'SCP', 'STATION', 'DATE', 'TIME'])\n",
        " .ENTRIES.count()\n",
        " .reset_index()\n",
        " .sort_values(\"ENTRIES\", ascending=False)).head()\n"
      ],
      "execution_count": 14,
      "outputs": [
        {
          "output_type": "execute_result",
          "data": {
            "text/html": [
              "<div>\n",
              "<style scoped>\n",
              "    .dataframe tbody tr th:only-of-type {\n",
              "        vertical-align: middle;\n",
              "    }\n",
              "\n",
              "    .dataframe tbody tr th {\n",
              "        vertical-align: top;\n",
              "    }\n",
              "\n",
              "    .dataframe thead th {\n",
              "        text-align: right;\n",
              "    }\n",
              "</style>\n",
              "<table border=\"1\" class=\"dataframe\">\n",
              "  <thead>\n",
              "    <tr style=\"text-align: right;\">\n",
              "      <th></th>\n",
              "      <th>C/A</th>\n",
              "      <th>UNIT</th>\n",
              "      <th>SCP</th>\n",
              "      <th>STATION</th>\n",
              "      <th>DATE</th>\n",
              "      <th>TIME</th>\n",
              "      <th>ENTRIES</th>\n",
              "    </tr>\n",
              "  </thead>\n",
              "  <tbody>\n",
              "    <tr>\n",
              "      <th>0</th>\n",
              "      <td>A002</td>\n",
              "      <td>R051</td>\n",
              "      <td>02-00-00</td>\n",
              "      <td>59 ST</td>\n",
              "      <td>06/26/2021</td>\n",
              "      <td>00:00:00</td>\n",
              "      <td>1</td>\n",
              "    </tr>\n",
              "    <tr>\n",
              "      <th>1652303</th>\n",
              "      <td>R138</td>\n",
              "      <td>R293</td>\n",
              "      <td>00-03-01</td>\n",
              "      <td>34 ST-PENN STA</td>\n",
              "      <td>07/23/2021</td>\n",
              "      <td>06:00:00</td>\n",
              "      <td>1</td>\n",
              "    </tr>\n",
              "    <tr>\n",
              "      <th>1652305</th>\n",
              "      <td>R138</td>\n",
              "      <td>R293</td>\n",
              "      <td>00-03-01</td>\n",
              "      <td>34 ST-PENN STA</td>\n",
              "      <td>07/23/2021</td>\n",
              "      <td>14:00:00</td>\n",
              "      <td>1</td>\n",
              "    </tr>\n",
              "    <tr>\n",
              "      <th>1652306</th>\n",
              "      <td>R138</td>\n",
              "      <td>R293</td>\n",
              "      <td>00-03-01</td>\n",
              "      <td>34 ST-PENN STA</td>\n",
              "      <td>07/23/2021</td>\n",
              "      <td>18:00:00</td>\n",
              "      <td>1</td>\n",
              "    </tr>\n",
              "    <tr>\n",
              "      <th>1652307</th>\n",
              "      <td>R138</td>\n",
              "      <td>R293</td>\n",
              "      <td>00-03-01</td>\n",
              "      <td>34 ST-PENN STA</td>\n",
              "      <td>07/23/2021</td>\n",
              "      <td>22:00:00</td>\n",
              "      <td>1</td>\n",
              "    </tr>\n",
              "  </tbody>\n",
              "</table>\n",
              "</div>"
            ],
            "text/plain": [
              "          C/A  UNIT       SCP         STATION        DATE      TIME  ENTRIES\n",
              "0        A002  R051  02-00-00           59 ST  06/26/2021  00:00:00        1\n",
              "1652303  R138  R293  00-03-01  34 ST-PENN STA  07/23/2021  06:00:00        1\n",
              "1652305  R138  R293  00-03-01  34 ST-PENN STA  07/23/2021  14:00:00        1\n",
              "1652306  R138  R293  00-03-01  34 ST-PENN STA  07/23/2021  18:00:00        1\n",
              "1652307  R138  R293  00-03-01  34 ST-PENN STA  07/23/2021  22:00:00        1"
            ]
          },
          "metadata": {},
          "execution_count": 14
        }
      ]
    },
    {
      "cell_type": "code",
      "metadata": {
        "colab": {
          "base_uri": "https://localhost:8080/",
          "height": 206
        },
        "id": "QI-D9ERtbzzC",
        "outputId": "919def47-625b-400f-f39e-1c1cedef8127"
      },
      "source": [
        "df.head()"
      ],
      "execution_count": 15,
      "outputs": [
        {
          "output_type": "execute_result",
          "data": {
            "text/html": [
              "<div>\n",
              "<style scoped>\n",
              "    .dataframe tbody tr th:only-of-type {\n",
              "        vertical-align: middle;\n",
              "    }\n",
              "\n",
              "    .dataframe tbody tr th {\n",
              "        vertical-align: top;\n",
              "    }\n",
              "\n",
              "    .dataframe thead th {\n",
              "        text-align: right;\n",
              "    }\n",
              "</style>\n",
              "<table border=\"1\" class=\"dataframe\">\n",
              "  <thead>\n",
              "    <tr style=\"text-align: right;\">\n",
              "      <th></th>\n",
              "      <th>C/A</th>\n",
              "      <th>UNIT</th>\n",
              "      <th>SCP</th>\n",
              "      <th>STATION</th>\n",
              "      <th>LINENAME</th>\n",
              "      <th>DIVISION</th>\n",
              "      <th>DATE</th>\n",
              "      <th>TIME</th>\n",
              "      <th>DESC</th>\n",
              "      <th>ENTRIES</th>\n",
              "      <th>EXITS</th>\n",
              "    </tr>\n",
              "  </thead>\n",
              "  <tbody>\n",
              "    <tr>\n",
              "      <th>0</th>\n",
              "      <td>A002</td>\n",
              "      <td>R051</td>\n",
              "      <td>02-00-00</td>\n",
              "      <td>59 ST</td>\n",
              "      <td>NQR456W</td>\n",
              "      <td>BMT</td>\n",
              "      <td>06/26/2021</td>\n",
              "      <td>00:00:00</td>\n",
              "      <td>REGULAR</td>\n",
              "      <td>7592792</td>\n",
              "      <td>2595706</td>\n",
              "    </tr>\n",
              "    <tr>\n",
              "      <th>2</th>\n",
              "      <td>A002</td>\n",
              "      <td>R051</td>\n",
              "      <td>02-00-00</td>\n",
              "      <td>59 ST</td>\n",
              "      <td>NQR456W</td>\n",
              "      <td>BMT</td>\n",
              "      <td>06/26/2021</td>\n",
              "      <td>08:00:00</td>\n",
              "      <td>REGULAR</td>\n",
              "      <td>7592816</td>\n",
              "      <td>2595729</td>\n",
              "    </tr>\n",
              "    <tr>\n",
              "      <th>3</th>\n",
              "      <td>A002</td>\n",
              "      <td>R051</td>\n",
              "      <td>02-00-00</td>\n",
              "      <td>59 ST</td>\n",
              "      <td>NQR456W</td>\n",
              "      <td>BMT</td>\n",
              "      <td>06/26/2021</td>\n",
              "      <td>12:00:00</td>\n",
              "      <td>REGULAR</td>\n",
              "      <td>7592870</td>\n",
              "      <td>2595762</td>\n",
              "    </tr>\n",
              "    <tr>\n",
              "      <th>4</th>\n",
              "      <td>A002</td>\n",
              "      <td>R051</td>\n",
              "      <td>02-00-00</td>\n",
              "      <td>59 ST</td>\n",
              "      <td>NQR456W</td>\n",
              "      <td>BMT</td>\n",
              "      <td>06/26/2021</td>\n",
              "      <td>16:00:00</td>\n",
              "      <td>REGULAR</td>\n",
              "      <td>7592992</td>\n",
              "      <td>2595791</td>\n",
              "    </tr>\n",
              "    <tr>\n",
              "      <th>5</th>\n",
              "      <td>A002</td>\n",
              "      <td>R051</td>\n",
              "      <td>02-00-00</td>\n",
              "      <td>59 ST</td>\n",
              "      <td>NQR456W</td>\n",
              "      <td>BMT</td>\n",
              "      <td>06/26/2021</td>\n",
              "      <td>20:00:00</td>\n",
              "      <td>REGULAR</td>\n",
              "      <td>7593116</td>\n",
              "      <td>2595809</td>\n",
              "    </tr>\n",
              "  </tbody>\n",
              "</table>\n",
              "</div>"
            ],
            "text/plain": [
              "    C/A  UNIT       SCP STATION  ...      TIME     DESC  ENTRIES    EXITS\n",
              "0  A002  R051  02-00-00   59 ST  ...  00:00:00  REGULAR  7592792  2595706\n",
              "2  A002  R051  02-00-00   59 ST  ...  08:00:00  REGULAR  7592816  2595729\n",
              "3  A002  R051  02-00-00   59 ST  ...  12:00:00  REGULAR  7592870  2595762\n",
              "4  A002  R051  02-00-00   59 ST  ...  16:00:00  REGULAR  7592992  2595791\n",
              "5  A002  R051  02-00-00   59 ST  ...  20:00:00  REGULAR  7593116  2595809\n",
              "\n",
              "[5 rows x 11 columns]"
            ]
          },
          "metadata": {},
          "execution_count": 15
        }
      ]
    },
    {
      "cell_type": "code",
      "metadata": {
        "id": "dr4rI_Zcb6Ev"
      },
      "source": [
        "df['DATETIME'] = pd.to_datetime(df.DATE + ' ' + df.TIME)"
      ],
      "execution_count": 81,
      "outputs": []
    },
    {
      "cell_type": "code",
      "metadata": {
        "id": "Jsd-viRyc9Ay"
      },
      "source": [
        "df = df.set_index(['DATETIME'])"
      ],
      "execution_count": 82,
      "outputs": []
    },
    {
      "cell_type": "code",
      "metadata": {
        "colab": {
          "base_uri": "https://localhost:8080/",
          "height": 237
        },
        "id": "X3zoNIsYdLi5",
        "outputId": "64fd443d-3f2f-4daf-da17-810cf7a857a7"
      },
      "source": [
        "# filter dataset in all day\n",
        "daily = df.between_time('00:00:00', '23:59:00')\n",
        "daily.tail()"
      ],
      "execution_count": 22,
      "outputs": [
        {
          "output_type": "execute_result",
          "data": {
            "text/html": [
              "<div>\n",
              "<style scoped>\n",
              "    .dataframe tbody tr th:only-of-type {\n",
              "        vertical-align: middle;\n",
              "    }\n",
              "\n",
              "    .dataframe tbody tr th {\n",
              "        vertical-align: top;\n",
              "    }\n",
              "\n",
              "    .dataframe thead th {\n",
              "        text-align: right;\n",
              "    }\n",
              "</style>\n",
              "<table border=\"1\" class=\"dataframe\">\n",
              "  <thead>\n",
              "    <tr style=\"text-align: right;\">\n",
              "      <th></th>\n",
              "      <th>C/A</th>\n",
              "      <th>UNIT</th>\n",
              "      <th>SCP</th>\n",
              "      <th>STATION</th>\n",
              "      <th>LINENAME</th>\n",
              "      <th>DIVISION</th>\n",
              "      <th>DATE</th>\n",
              "      <th>TIME</th>\n",
              "      <th>DESC</th>\n",
              "      <th>ENTRIES</th>\n",
              "      <th>EXITS</th>\n",
              "    </tr>\n",
              "    <tr>\n",
              "      <th>DATETIME</th>\n",
              "      <th></th>\n",
              "      <th></th>\n",
              "      <th></th>\n",
              "      <th></th>\n",
              "      <th></th>\n",
              "      <th></th>\n",
              "      <th></th>\n",
              "      <th></th>\n",
              "      <th></th>\n",
              "      <th></th>\n",
              "      <th></th>\n",
              "    </tr>\n",
              "  </thead>\n",
              "  <tbody>\n",
              "    <tr>\n",
              "      <th>2021-09-24 05:00:00</th>\n",
              "      <td>TRAM2</td>\n",
              "      <td>R469</td>\n",
              "      <td>00-05-01</td>\n",
              "      <td>RIT-ROOSEVELT</td>\n",
              "      <td>R</td>\n",
              "      <td>RIT</td>\n",
              "      <td>09/24/2021</td>\n",
              "      <td>05:00:00</td>\n",
              "      <td>REGULAR</td>\n",
              "      <td>5554</td>\n",
              "      <td>645</td>\n",
              "    </tr>\n",
              "    <tr>\n",
              "      <th>2021-09-24 09:00:00</th>\n",
              "      <td>TRAM2</td>\n",
              "      <td>R469</td>\n",
              "      <td>00-05-01</td>\n",
              "      <td>RIT-ROOSEVELT</td>\n",
              "      <td>R</td>\n",
              "      <td>RIT</td>\n",
              "      <td>09/24/2021</td>\n",
              "      <td>09:00:00</td>\n",
              "      <td>REGULAR</td>\n",
              "      <td>5554</td>\n",
              "      <td>645</td>\n",
              "    </tr>\n",
              "    <tr>\n",
              "      <th>2021-09-24 13:00:00</th>\n",
              "      <td>TRAM2</td>\n",
              "      <td>R469</td>\n",
              "      <td>00-05-01</td>\n",
              "      <td>RIT-ROOSEVELT</td>\n",
              "      <td>R</td>\n",
              "      <td>RIT</td>\n",
              "      <td>09/24/2021</td>\n",
              "      <td>13:00:00</td>\n",
              "      <td>REGULAR</td>\n",
              "      <td>5554</td>\n",
              "      <td>645</td>\n",
              "    </tr>\n",
              "    <tr>\n",
              "      <th>2021-09-24 17:00:00</th>\n",
              "      <td>TRAM2</td>\n",
              "      <td>R469</td>\n",
              "      <td>00-05-01</td>\n",
              "      <td>RIT-ROOSEVELT</td>\n",
              "      <td>R</td>\n",
              "      <td>RIT</td>\n",
              "      <td>09/24/2021</td>\n",
              "      <td>17:00:00</td>\n",
              "      <td>REGULAR</td>\n",
              "      <td>5554</td>\n",
              "      <td>646</td>\n",
              "    </tr>\n",
              "    <tr>\n",
              "      <th>2021-09-24 21:00:00</th>\n",
              "      <td>TRAM2</td>\n",
              "      <td>R469</td>\n",
              "      <td>00-05-01</td>\n",
              "      <td>RIT-ROOSEVELT</td>\n",
              "      <td>R</td>\n",
              "      <td>RIT</td>\n",
              "      <td>09/24/2021</td>\n",
              "      <td>21:00:00</td>\n",
              "      <td>REGULAR</td>\n",
              "      <td>5554</td>\n",
              "      <td>646</td>\n",
              "    </tr>\n",
              "  </tbody>\n",
              "</table>\n",
              "</div>"
            ],
            "text/plain": [
              "                       C/A  UNIT       SCP  ...     DESC ENTRIES EXITS\n",
              "DATETIME                                    ...                       \n",
              "2021-09-24 05:00:00  TRAM2  R469  00-05-01  ...  REGULAR    5554   645\n",
              "2021-09-24 09:00:00  TRAM2  R469  00-05-01  ...  REGULAR    5554   645\n",
              "2021-09-24 13:00:00  TRAM2  R469  00-05-01  ...  REGULAR    5554   645\n",
              "2021-09-24 17:00:00  TRAM2  R469  00-05-01  ...  REGULAR    5554   646\n",
              "2021-09-24 21:00:00  TRAM2  R469  00-05-01  ...  REGULAR    5554   646\n",
              "\n",
              "[5 rows x 11 columns]"
            ]
          },
          "metadata": {},
          "execution_count": 22
        }
      ]
    },
    {
      "cell_type": "code",
      "metadata": {
        "id": "a1EM3pNmdOXl"
      },
      "source": [
        "# subtract max from min for each turnstile to get entries\n",
        "daily_turn = (daily.groupby(['C/A', 'UNIT', 'SCP', 'STATION', 'DATE'])['ENTRIES'].max()\\\n",
        "           -daily.groupby(['C/A', 'UNIT', 'SCP', 'STATION', 'DATE'])['ENTRIES'].min()).reset_index()"
      ],
      "execution_count": 23,
      "outputs": []
    },
    {
      "cell_type": "code",
      "metadata": {
        "colab": {
          "base_uri": "https://localhost:8080/"
        },
        "id": "PMe_3GzZdZpM",
        "outputId": "9d3ee2d6-fbe8-4cd5-e357-c3d8ff70da07"
      },
      "source": [
        "#explore outliers\n",
        "daily_turn['ENTRIES'].describe()"
      ],
      "execution_count": 24,
      "outputs": [
        {
          "output_type": "execute_result",
          "data": {
            "text/plain": [
              "count    4.541230e+05\n",
              "mean     9.849510e+03\n",
              "std      2.963744e+06\n",
              "min      0.000000e+00\n",
              "25%      7.700000e+01\n",
              "50%      2.450000e+02\n",
              "75%      4.870000e+02\n",
              "max      1.383110e+09\n",
              "Name: ENTRIES, dtype: float64"
            ]
          },
          "metadata": {},
          "execution_count": 24
        }
      ]
    },
    {
      "cell_type": "code",
      "metadata": {
        "colab": {
          "base_uri": "https://localhost:8080/"
        },
        "id": "vytUaVcGdjDe",
        "outputId": "d067af76-3284-4082-df1a-a06dc6582c12"
      },
      "source": [
        "daily_turn['ENTRIES'].sort_values(ascending = True).tail(30)"
      ],
      "execution_count": 26,
      "outputs": [
        {
          "output_type": "execute_result",
          "data": {
            "text/plain": [
              "159945       1198434\n",
              "118076       1605073\n",
              "417659       1684112\n",
              "369603       1694313\n",
              "340050       1953459\n",
              "311466       3102523\n",
              "307329       3154026\n",
              "121279       4293220\n",
              "163558       5405491\n",
              "221543       6214017\n",
              "359378       6250019\n",
              "442847       6481441\n",
              "141764       7249292\n",
              "135069      10485760\n",
              "307222      11123654\n",
              "227900      15689361\n",
              "185716      15740062\n",
              "194179      16034825\n",
              "81605       33377049\n",
              "435450      50018550\n",
              "333437      50111070\n",
              "155656      66781958\n",
              "155739      67109617\n",
              "155648      67109618\n",
              "122387     117440512\n",
              "74423      167087887\n",
              "387179     200533228\n",
              "393813     943216066\n",
              "359490    1040931923\n",
              "447755    1383110319\n",
              "Name: ENTRIES, dtype: int64"
            ]
          },
          "metadata": {},
          "execution_count": 26
        }
      ]
    },
    {
      "cell_type": "code",
      "metadata": {
        "id": "lvAY2fimdph2"
      },
      "source": [
        "# removing values that appear to be counter resets\n",
        "daily_turn = daily_turn[daily_turn.ENTRIES <= 11000]"
      ],
      "execution_count": 28,
      "outputs": []
    },
    {
      "cell_type": "code",
      "metadata": {
        "colab": {
          "base_uri": "https://localhost:8080/",
          "height": 206
        },
        "id": "DNntB5VGdyWk",
        "outputId": "c9f2476a-c0f3-43ce-deac-af3b5bcb460a"
      },
      "source": [
        "daily_turn.head()\n",
        "#daily_turn.shape"
      ],
      "execution_count": 37,
      "outputs": [
        {
          "output_type": "execute_result",
          "data": {
            "text/html": [
              "<div>\n",
              "<style scoped>\n",
              "    .dataframe tbody tr th:only-of-type {\n",
              "        vertical-align: middle;\n",
              "    }\n",
              "\n",
              "    .dataframe tbody tr th {\n",
              "        vertical-align: top;\n",
              "    }\n",
              "\n",
              "    .dataframe thead th {\n",
              "        text-align: right;\n",
              "    }\n",
              "</style>\n",
              "<table border=\"1\" class=\"dataframe\">\n",
              "  <thead>\n",
              "    <tr style=\"text-align: right;\">\n",
              "      <th></th>\n",
              "      <th>C/A</th>\n",
              "      <th>UNIT</th>\n",
              "      <th>SCP</th>\n",
              "      <th>STATION</th>\n",
              "      <th>DATE</th>\n",
              "      <th>ENTRIES</th>\n",
              "    </tr>\n",
              "  </thead>\n",
              "  <tbody>\n",
              "    <tr>\n",
              "      <th>0</th>\n",
              "      <td>A002</td>\n",
              "      <td>R051</td>\n",
              "      <td>02-00-00</td>\n",
              "      <td>59 ST</td>\n",
              "      <td>06/26/2021</td>\n",
              "      <td>324</td>\n",
              "    </tr>\n",
              "    <tr>\n",
              "      <th>1</th>\n",
              "      <td>A002</td>\n",
              "      <td>R051</td>\n",
              "      <td>02-00-00</td>\n",
              "      <td>59 ST</td>\n",
              "      <td>06/27/2021</td>\n",
              "      <td>252</td>\n",
              "    </tr>\n",
              "    <tr>\n",
              "      <th>2</th>\n",
              "      <td>A002</td>\n",
              "      <td>R051</td>\n",
              "      <td>02-00-00</td>\n",
              "      <td>59 ST</td>\n",
              "      <td>06/28/2021</td>\n",
              "      <td>501</td>\n",
              "    </tr>\n",
              "    <tr>\n",
              "      <th>3</th>\n",
              "      <td>A002</td>\n",
              "      <td>R051</td>\n",
              "      <td>02-00-00</td>\n",
              "      <td>59 ST</td>\n",
              "      <td>06/29/2021</td>\n",
              "      <td>472</td>\n",
              "    </tr>\n",
              "    <tr>\n",
              "      <th>4</th>\n",
              "      <td>A002</td>\n",
              "      <td>R051</td>\n",
              "      <td>02-00-00</td>\n",
              "      <td>59 ST</td>\n",
              "      <td>06/30/2021</td>\n",
              "      <td>520</td>\n",
              "    </tr>\n",
              "  </tbody>\n",
              "</table>\n",
              "</div>"
            ],
            "text/plain": [
              "    C/A  UNIT       SCP STATION        DATE  ENTRIES\n",
              "0  A002  R051  02-00-00   59 ST  06/26/2021      324\n",
              "1  A002  R051  02-00-00   59 ST  06/27/2021      252\n",
              "2  A002  R051  02-00-00   59 ST  06/28/2021      501\n",
              "3  A002  R051  02-00-00   59 ST  06/29/2021      472\n",
              "4  A002  R051  02-00-00   59 ST  06/30/2021      520"
            ]
          },
          "metadata": {},
          "execution_count": 37
        }
      ]
    },
    {
      "cell_type": "code",
      "metadata": {
        "colab": {
          "base_uri": "https://localhost:8080/",
          "height": 206
        },
        "id": "3Ju_hm-SeD6R",
        "outputId": "46f3e97a-1d3b-44f6-9b46-82990c717f35"
      },
      "source": [
        "# add up total daily entries per station\n",
        "daily_station = daily_turn.groupby(['STATION', 'DATE']).sum().reset_index()\n",
        "daily_station['DATE'] = pd.to_datetime(daily_station['DATE'])\n",
        "daily_station.tail()"
      ],
      "execution_count": 83,
      "outputs": [
        {
          "output_type": "execute_result",
          "data": {
            "text/html": [
              "<div>\n",
              "<style scoped>\n",
              "    .dataframe tbody tr th:only-of-type {\n",
              "        vertical-align: middle;\n",
              "    }\n",
              "\n",
              "    .dataframe tbody tr th {\n",
              "        vertical-align: top;\n",
              "    }\n",
              "\n",
              "    .dataframe thead th {\n",
              "        text-align: right;\n",
              "    }\n",
              "</style>\n",
              "<table border=\"1\" class=\"dataframe\">\n",
              "  <thead>\n",
              "    <tr style=\"text-align: right;\">\n",
              "      <th></th>\n",
              "      <th>STATION</th>\n",
              "      <th>DATE</th>\n",
              "      <th>ENTRIES</th>\n",
              "    </tr>\n",
              "  </thead>\n",
              "  <tbody>\n",
              "    <tr>\n",
              "      <th>34434</th>\n",
              "      <td>ZEREGA AV</td>\n",
              "      <td>2021-09-20</td>\n",
              "      <td>1374</td>\n",
              "    </tr>\n",
              "    <tr>\n",
              "      <th>34435</th>\n",
              "      <td>ZEREGA AV</td>\n",
              "      <td>2021-09-21</td>\n",
              "      <td>1405</td>\n",
              "    </tr>\n",
              "    <tr>\n",
              "      <th>34436</th>\n",
              "      <td>ZEREGA AV</td>\n",
              "      <td>2021-09-22</td>\n",
              "      <td>1431</td>\n",
              "    </tr>\n",
              "    <tr>\n",
              "      <th>34437</th>\n",
              "      <td>ZEREGA AV</td>\n",
              "      <td>2021-09-23</td>\n",
              "      <td>1399</td>\n",
              "    </tr>\n",
              "    <tr>\n",
              "      <th>34438</th>\n",
              "      <td>ZEREGA AV</td>\n",
              "      <td>2021-09-24</td>\n",
              "      <td>1348</td>\n",
              "    </tr>\n",
              "  </tbody>\n",
              "</table>\n",
              "</div>"
            ],
            "text/plain": [
              "         STATION       DATE  ENTRIES\n",
              "34434  ZEREGA AV 2021-09-20     1374\n",
              "34435  ZEREGA AV 2021-09-21     1405\n",
              "34436  ZEREGA AV 2021-09-22     1431\n",
              "34437  ZEREGA AV 2021-09-23     1399\n",
              "34438  ZEREGA AV 2021-09-24     1348"
            ]
          },
          "metadata": {},
          "execution_count": 83
        }
      ]
    },
    {
      "cell_type": "code",
      "metadata": {
        "id": "-M98iEZpeLC-"
      },
      "source": [
        "# summing for whole month\n",
        "daily_month = daily_station.groupby(['STATION'])['ENTRIES'].sum().reset_index()\n",
        "daily_month = daily_month.set_index('STATION')"
      ],
      "execution_count": 43,
      "outputs": []
    },
    {
      "cell_type": "code",
      "metadata": {
        "colab": {
          "base_uri": "https://localhost:8080/",
          "height": 311
        },
        "id": "TdmP7TKWeS4N",
        "outputId": "091ab92f-1a15-4f41-ace5-38d03e1789ad"
      },
      "source": [
        "# determine busiest stations\n",
        "\n",
        "topsts = daily_month.sort_values('ENTRIES', ascending=False).head(15)\n",
        "topsts.head()\n",
        "topsts.plot(kind='barh', title='Entries by Station')"
      ],
      "execution_count": 44,
      "outputs": [
        {
          "output_type": "execute_result",
          "data": {
            "text/plain": [
              "<matplotlib.axes._subplots.AxesSubplot at 0x7fc1794e3290>"
            ]
          },
          "metadata": {},
          "execution_count": 44
        },
        {
          "output_type": "display_data",
          "data": {
            "image/png": "[encoded data removed]",
            "text/plain": [
              "<Figure size 432x288 with 1 Axes>"
            ]
          },
          "metadata": {
            "needs_background": "light"
          }
        }
      ]
    },
    {
      "cell_type": "code",
      "metadata": {
        "id": "0e6JTwywGA3H"
      },
      "source": [
        "# limit to 34 ST-PENN STA at turnstile level\n",
        "penn = df[df['STATION'] == '34 ST-PENN STA']"
      ],
      "execution_count": 56,
      "outputs": []
    },
    {
      "cell_type": "code",
      "metadata": {
        "colab": {
          "base_uri": "https://localhost:8080/"
        },
        "id": "rvsfq35wJPWf",
        "outputId": "534e7f53-0a2e-429c-e639-699512fe3727"
      },
      "source": [
        "#show the numbers of raws & columns\n",
        "penn.shape\n"
      ],
      "execution_count": 57,
      "outputs": [
        {
          "output_type": "execute_result",
          "data": {
            "text/plain": [
              "(48122, 11)"
            ]
          },
          "metadata": {},
          "execution_count": 57
        }
      ]
    },
    {
      "cell_type": "code",
      "metadata": {
        "colab": {
          "base_uri": "https://localhost:8080/",
          "height": 237
        },
        "id": "4N0cLCgKJTAB",
        "outputId": "928d8c39-11d5-4824-cb80-2c30dbf0cd59"
      },
      "source": [
        "penn.tail()"
      ],
      "execution_count": 62,
      "outputs": [
        {
          "output_type": "execute_result",
          "data": {
            "text/html": [
              "<div>\n",
              "<style scoped>\n",
              "    .dataframe tbody tr th:only-of-type {\n",
              "        vertical-align: middle;\n",
              "    }\n",
              "\n",
              "    .dataframe tbody tr th {\n",
              "        vertical-align: top;\n",
              "    }\n",
              "\n",
              "    .dataframe thead th {\n",
              "        text-align: right;\n",
              "    }\n",
              "</style>\n",
              "<table border=\"1\" class=\"dataframe\">\n",
              "  <thead>\n",
              "    <tr style=\"text-align: right;\">\n",
              "      <th></th>\n",
              "      <th>C/A</th>\n",
              "      <th>UNIT</th>\n",
              "      <th>SCP</th>\n",
              "      <th>STATION</th>\n",
              "      <th>LINENAME</th>\n",
              "      <th>DIVISION</th>\n",
              "      <th>DATE</th>\n",
              "      <th>TIME</th>\n",
              "      <th>DESC</th>\n",
              "      <th>ENTRIES</th>\n",
              "      <th>EXITS</th>\n",
              "    </tr>\n",
              "    <tr>\n",
              "      <th>DATETIME</th>\n",
              "      <th></th>\n",
              "      <th></th>\n",
              "      <th></th>\n",
              "      <th></th>\n",
              "      <th></th>\n",
              "      <th></th>\n",
              "      <th></th>\n",
              "      <th></th>\n",
              "      <th></th>\n",
              "      <th></th>\n",
              "      <th></th>\n",
              "    </tr>\n",
              "  </thead>\n",
              "  <tbody>\n",
              "    <tr>\n",
              "      <th>2021-09-24 06:00:00</th>\n",
              "      <td>R142</td>\n",
              "      <td>R293</td>\n",
              "      <td>01-06-01</td>\n",
              "      <td>34 ST-PENN STA</td>\n",
              "      <td>123ACE</td>\n",
              "      <td>IRT</td>\n",
              "      <td>09/24/2021</td>\n",
              "      <td>06:00:00</td>\n",
              "      <td>REGULAR</td>\n",
              "      <td>68097697</td>\n",
              "      <td>18814518</td>\n",
              "    </tr>\n",
              "    <tr>\n",
              "      <th>2021-09-24 10:00:00</th>\n",
              "      <td>R142</td>\n",
              "      <td>R293</td>\n",
              "      <td>01-06-01</td>\n",
              "      <td>34 ST-PENN STA</td>\n",
              "      <td>123ACE</td>\n",
              "      <td>IRT</td>\n",
              "      <td>09/24/2021</td>\n",
              "      <td>10:00:00</td>\n",
              "      <td>REGULAR</td>\n",
              "      <td>68097722</td>\n",
              "      <td>18814652</td>\n",
              "    </tr>\n",
              "    <tr>\n",
              "      <th>2021-09-24 14:00:00</th>\n",
              "      <td>R142</td>\n",
              "      <td>R293</td>\n",
              "      <td>01-06-01</td>\n",
              "      <td>34 ST-PENN STA</td>\n",
              "      <td>123ACE</td>\n",
              "      <td>IRT</td>\n",
              "      <td>09/24/2021</td>\n",
              "      <td>14:00:00</td>\n",
              "      <td>REGULAR</td>\n",
              "      <td>68097772</td>\n",
              "      <td>18814759</td>\n",
              "    </tr>\n",
              "    <tr>\n",
              "      <th>2021-09-24 18:00:00</th>\n",
              "      <td>R142</td>\n",
              "      <td>R293</td>\n",
              "      <td>01-06-01</td>\n",
              "      <td>34 ST-PENN STA</td>\n",
              "      <td>123ACE</td>\n",
              "      <td>IRT</td>\n",
              "      <td>09/24/2021</td>\n",
              "      <td>18:00:00</td>\n",
              "      <td>REGULAR</td>\n",
              "      <td>68097854</td>\n",
              "      <td>18814904</td>\n",
              "    </tr>\n",
              "    <tr>\n",
              "      <th>2021-09-24 22:00:00</th>\n",
              "      <td>R142</td>\n",
              "      <td>R293</td>\n",
              "      <td>01-06-01</td>\n",
              "      <td>34 ST-PENN STA</td>\n",
              "      <td>123ACE</td>\n",
              "      <td>IRT</td>\n",
              "      <td>09/24/2021</td>\n",
              "      <td>22:00:00</td>\n",
              "      <td>REGULAR</td>\n",
              "      <td>68097914</td>\n",
              "      <td>18815021</td>\n",
              "    </tr>\n",
              "  </tbody>\n",
              "</table>\n",
              "</div>"
            ],
            "text/plain": [
              "                      C/A  UNIT       SCP  ...     DESC   ENTRIES     EXITS\n",
              "DATETIME                                   ...                             \n",
              "2021-09-24 06:00:00  R142  R293  01-06-01  ...  REGULAR  68097697  18814518\n",
              "2021-09-24 10:00:00  R142  R293  01-06-01  ...  REGULAR  68097722  18814652\n",
              "2021-09-24 14:00:00  R142  R293  01-06-01  ...  REGULAR  68097772  18814759\n",
              "2021-09-24 18:00:00  R142  R293  01-06-01  ...  REGULAR  68097854  18814904\n",
              "2021-09-24 22:00:00  R142  R293  01-06-01  ...  REGULAR  68097914  18815021\n",
              "\n",
              "[5 rows x 11 columns]"
            ]
          },
          "metadata": {},
          "execution_count": 62
        }
      ]
    },
    {
      "cell_type": "code",
      "metadata": {
        "id": "dKr8LOxVYh_5"
      },
      "source": [
        "turnstiles = penn['SCP'].unique()"
      ],
      "execution_count": 68,
      "outputs": []
    },
    {
      "cell_type": "code",
      "metadata": {
        "colab": {
          "base_uri": "https://localhost:8080/"
        },
        "id": "nafY6-1AZA5j",
        "outputId": "41ad74e3-9715-40bf-e8af-03246af32ffe"
      },
      "source": [
        "masked_dfs = []\n",
        "for i in turnstiles:\n",
        "    mask = penn[((penn[\"C/A\"] == \"R142\") &\n",
        "    (penn[\"UNIT\"] == \"R293\") &\n",
        "    (penn[\"SCP\"] ==  i) &\n",
        "    (penn[\"STATION\"] == \"34 ST-PENN STA\"))]\n",
        "           \n",
        "    mask['DIFFS'] = mask['ENTRIES'].diff()\n",
        "    masked_dfs.append(mask)"
      ],
      "execution_count": 69,
      "outputs": [
        {
          "output_type": "stream",
          "name": "stderr",
          "text": [
            "/usr/local/lib/python3.7/dist-packages/ipykernel_launcher.py:8: SettingWithCopyWarning: \n",
            "A value is trying to be set on a copy of a slice from a DataFrame.\n",
            "Try using .loc[row_indexer,col_indexer] = value instead\n",
            "\n",
            "See the caveats in the documentation: https://pandas.pydata.org/pandas-docs/stable/user_guide/indexing.html#returning-a-view-versus-a-copy\n",
            "  \n"
          ]
        }
      ]
    },
    {
      "cell_type": "code",
      "metadata": {
        "id": "hJXtVEUWZIIr"
      },
      "source": [
        "entries_turn = pd.concat(masked_dfs)"
      ],
      "execution_count": 70,
      "outputs": []
    },
    {
      "cell_type": "code",
      "metadata": {
        "colab": {
          "base_uri": "https://localhost:8080/",
          "height": 237
        },
        "id": "vWHqBandJ9Zk",
        "outputId": "0febe7a9-80f0-46c5-9b2b-3f4cc2cfe03b"
      },
      "source": [
        "entries_turn.tail()"
      ],
      "execution_count": 71,
      "outputs": [
        {
          "output_type": "execute_result",
          "data": {
            "text/html": [
              "<div>\n",
              "<style scoped>\n",
              "    .dataframe tbody tr th:only-of-type {\n",
              "        vertical-align: middle;\n",
              "    }\n",
              "\n",
              "    .dataframe tbody tr th {\n",
              "        vertical-align: top;\n",
              "    }\n",
              "\n",
              "    .dataframe thead th {\n",
              "        text-align: right;\n",
              "    }\n",
              "</style>\n",
              "<table border=\"1\" class=\"dataframe\">\n",
              "  <thead>\n",
              "    <tr style=\"text-align: right;\">\n",
              "      <th></th>\n",
              "      <th>C/A</th>\n",
              "      <th>UNIT</th>\n",
              "      <th>SCP</th>\n",
              "      <th>STATION</th>\n",
              "      <th>LINENAME</th>\n",
              "      <th>DIVISION</th>\n",
              "      <th>DATE</th>\n",
              "      <th>TIME</th>\n",
              "      <th>DESC</th>\n",
              "      <th>ENTRIES</th>\n",
              "      <th>EXITS</th>\n",
              "      <th>DIFFS</th>\n",
              "    </tr>\n",
              "    <tr>\n",
              "      <th>DATETIME</th>\n",
              "      <th></th>\n",
              "      <th></th>\n",
              "      <th></th>\n",
              "      <th></th>\n",
              "      <th></th>\n",
              "      <th></th>\n",
              "      <th></th>\n",
              "      <th></th>\n",
              "      <th></th>\n",
              "      <th></th>\n",
              "      <th></th>\n",
              "      <th></th>\n",
              "    </tr>\n",
              "  </thead>\n",
              "  <tbody>\n",
              "    <tr>\n",
              "      <th>2021-09-24 06:00:00</th>\n",
              "      <td>R142</td>\n",
              "      <td>R293</td>\n",
              "      <td>01-06-01</td>\n",
              "      <td>34 ST-PENN STA</td>\n",
              "      <td>123ACE</td>\n",
              "      <td>IRT</td>\n",
              "      <td>09/24/2021</td>\n",
              "      <td>06:00:00</td>\n",
              "      <td>REGULAR</td>\n",
              "      <td>68097697</td>\n",
              "      <td>18814518</td>\n",
              "      <td>0.0</td>\n",
              "    </tr>\n",
              "    <tr>\n",
              "      <th>2021-09-24 10:00:00</th>\n",
              "      <td>R142</td>\n",
              "      <td>R293</td>\n",
              "      <td>01-06-01</td>\n",
              "      <td>34 ST-PENN STA</td>\n",
              "      <td>123ACE</td>\n",
              "      <td>IRT</td>\n",
              "      <td>09/24/2021</td>\n",
              "      <td>10:00:00</td>\n",
              "      <td>REGULAR</td>\n",
              "      <td>68097722</td>\n",
              "      <td>18814652</td>\n",
              "      <td>25.0</td>\n",
              "    </tr>\n",
              "    <tr>\n",
              "      <th>2021-09-24 14:00:00</th>\n",
              "      <td>R142</td>\n",
              "      <td>R293</td>\n",
              "      <td>01-06-01</td>\n",
              "      <td>34 ST-PENN STA</td>\n",
              "      <td>123ACE</td>\n",
              "      <td>IRT</td>\n",
              "      <td>09/24/2021</td>\n",
              "      <td>14:00:00</td>\n",
              "      <td>REGULAR</td>\n",
              "      <td>68097772</td>\n",
              "      <td>18814759</td>\n",
              "      <td>50.0</td>\n",
              "    </tr>\n",
              "    <tr>\n",
              "      <th>2021-09-24 18:00:00</th>\n",
              "      <td>R142</td>\n",
              "      <td>R293</td>\n",
              "      <td>01-06-01</td>\n",
              "      <td>34 ST-PENN STA</td>\n",
              "      <td>123ACE</td>\n",
              "      <td>IRT</td>\n",
              "      <td>09/24/2021</td>\n",
              "      <td>18:00:00</td>\n",
              "      <td>REGULAR</td>\n",
              "      <td>68097854</td>\n",
              "      <td>18814904</td>\n",
              "      <td>82.0</td>\n",
              "    </tr>\n",
              "    <tr>\n",
              "      <th>2021-09-24 22:00:00</th>\n",
              "      <td>R142</td>\n",
              "      <td>R293</td>\n",
              "      <td>01-06-01</td>\n",
              "      <td>34 ST-PENN STA</td>\n",
              "      <td>123ACE</td>\n",
              "      <td>IRT</td>\n",
              "      <td>09/24/2021</td>\n",
              "      <td>22:00:00</td>\n",
              "      <td>REGULAR</td>\n",
              "      <td>68097914</td>\n",
              "      <td>18815021</td>\n",
              "      <td>60.0</td>\n",
              "    </tr>\n",
              "  </tbody>\n",
              "</table>\n",
              "</div>"
            ],
            "text/plain": [
              "                      C/A  UNIT       SCP  ...   ENTRIES     EXITS DIFFS\n",
              "DATETIME                                   ...                          \n",
              "2021-09-24 06:00:00  R142  R293  01-06-01  ...  68097697  18814518   0.0\n",
              "2021-09-24 10:00:00  R142  R293  01-06-01  ...  68097722  18814652  25.0\n",
              "2021-09-24 14:00:00  R142  R293  01-06-01  ...  68097772  18814759  50.0\n",
              "2021-09-24 18:00:00  R142  R293  01-06-01  ...  68097854  18814904  82.0\n",
              "2021-09-24 22:00:00  R142  R293  01-06-01  ...  68097914  18815021  60.0\n",
              "\n",
              "[5 rows x 12 columns]"
            ]
          },
          "metadata": {},
          "execution_count": 71
        }
      ]
    },
    {
      "cell_type": "code",
      "metadata": {
        "id": "vMHGaErHKNPQ"
      },
      "source": [
        "#remove NaN values and negative values (i.e. counter resets)\n",
        "entries_turn.dropna(inplace=True)\n",
        "entries_turn = entries_turn[entries_turn['DIFFS'] >= 0]"
      ],
      "execution_count": 72,
      "outputs": []
    },
    {
      "cell_type": "code",
      "metadata": {
        "colab": {
          "base_uri": "https://localhost:8080/",
          "height": 237
        },
        "id": "U8h86Il0KTH2",
        "outputId": "4ad4aba4-1fe7-4880-a0e8-d98fabc44e15"
      },
      "source": [
        "\n",
        "# now have turnstile entries per four period (diffs column)\n",
        "entries_turn.tail()"
      ],
      "execution_count": 73,
      "outputs": [
        {
          "output_type": "execute_result",
          "data": {
            "text/html": [
              "<div>\n",
              "<style scoped>\n",
              "    .dataframe tbody tr th:only-of-type {\n",
              "        vertical-align: middle;\n",
              "    }\n",
              "\n",
              "    .dataframe tbody tr th {\n",
              "        vertical-align: top;\n",
              "    }\n",
              "\n",
              "    .dataframe thead th {\n",
              "        text-align: right;\n",
              "    }\n",
              "</style>\n",
              "<table border=\"1\" class=\"dataframe\">\n",
              "  <thead>\n",
              "    <tr style=\"text-align: right;\">\n",
              "      <th></th>\n",
              "      <th>C/A</th>\n",
              "      <th>UNIT</th>\n",
              "      <th>SCP</th>\n",
              "      <th>STATION</th>\n",
              "      <th>LINENAME</th>\n",
              "      <th>DIVISION</th>\n",
              "      <th>DATE</th>\n",
              "      <th>TIME</th>\n",
              "      <th>DESC</th>\n",
              "      <th>ENTRIES</th>\n",
              "      <th>EXITS</th>\n",
              "      <th>DIFFS</th>\n",
              "    </tr>\n",
              "    <tr>\n",
              "      <th>DATETIME</th>\n",
              "      <th></th>\n",
              "      <th></th>\n",
              "      <th></th>\n",
              "      <th></th>\n",
              "      <th></th>\n",
              "      <th></th>\n",
              "      <th></th>\n",
              "      <th></th>\n",
              "      <th></th>\n",
              "      <th></th>\n",
              "      <th></th>\n",
              "      <th></th>\n",
              "    </tr>\n",
              "  </thead>\n",
              "  <tbody>\n",
              "    <tr>\n",
              "      <th>2021-09-24 06:00:00</th>\n",
              "      <td>R142</td>\n",
              "      <td>R293</td>\n",
              "      <td>01-06-01</td>\n",
              "      <td>34 ST-PENN STA</td>\n",
              "      <td>123ACE</td>\n",
              "      <td>IRT</td>\n",
              "      <td>09/24/2021</td>\n",
              "      <td>06:00:00</td>\n",
              "      <td>REGULAR</td>\n",
              "      <td>68097697</td>\n",
              "      <td>18814518</td>\n",
              "      <td>0.0</td>\n",
              "    </tr>\n",
              "    <tr>\n",
              "      <th>2021-09-24 10:00:00</th>\n",
              "      <td>R142</td>\n",
              "      <td>R293</td>\n",
              "      <td>01-06-01</td>\n",
              "      <td>34 ST-PENN STA</td>\n",
              "      <td>123ACE</td>\n",
              "      <td>IRT</td>\n",
              "      <td>09/24/2021</td>\n",
              "      <td>10:00:00</td>\n",
              "      <td>REGULAR</td>\n",
              "      <td>68097722</td>\n",
              "      <td>18814652</td>\n",
              "      <td>25.0</td>\n",
              "    </tr>\n",
              "    <tr>\n",
              "      <th>2021-09-24 14:00:00</th>\n",
              "      <td>R142</td>\n",
              "      <td>R293</td>\n",
              "      <td>01-06-01</td>\n",
              "      <td>34 ST-PENN STA</td>\n",
              "      <td>123ACE</td>\n",
              "      <td>IRT</td>\n",
              "      <td>09/24/2021</td>\n",
              "      <td>14:00:00</td>\n",
              "      <td>REGULAR</td>\n",
              "      <td>68097772</td>\n",
              "      <td>18814759</td>\n",
              "      <td>50.0</td>\n",
              "    </tr>\n",
              "    <tr>\n",
              "      <th>2021-09-24 18:00:00</th>\n",
              "      <td>R142</td>\n",
              "      <td>R293</td>\n",
              "      <td>01-06-01</td>\n",
              "      <td>34 ST-PENN STA</td>\n",
              "      <td>123ACE</td>\n",
              "      <td>IRT</td>\n",
              "      <td>09/24/2021</td>\n",
              "      <td>18:00:00</td>\n",
              "      <td>REGULAR</td>\n",
              "      <td>68097854</td>\n",
              "      <td>18814904</td>\n",
              "      <td>82.0</td>\n",
              "    </tr>\n",
              "    <tr>\n",
              "      <th>2021-09-24 22:00:00</th>\n",
              "      <td>R142</td>\n",
              "      <td>R293</td>\n",
              "      <td>01-06-01</td>\n",
              "      <td>34 ST-PENN STA</td>\n",
              "      <td>123ACE</td>\n",
              "      <td>IRT</td>\n",
              "      <td>09/24/2021</td>\n",
              "      <td>22:00:00</td>\n",
              "      <td>REGULAR</td>\n",
              "      <td>68097914</td>\n",
              "      <td>18815021</td>\n",
              "      <td>60.0</td>\n",
              "    </tr>\n",
              "  </tbody>\n",
              "</table>\n",
              "</div>"
            ],
            "text/plain": [
              "                      C/A  UNIT       SCP  ...   ENTRIES     EXITS DIFFS\n",
              "DATETIME                                   ...                          \n",
              "2021-09-24 06:00:00  R142  R293  01-06-01  ...  68097697  18814518   0.0\n",
              "2021-09-24 10:00:00  R142  R293  01-06-01  ...  68097722  18814652  25.0\n",
              "2021-09-24 14:00:00  R142  R293  01-06-01  ...  68097772  18814759  50.0\n",
              "2021-09-24 18:00:00  R142  R293  01-06-01  ...  68097854  18814904  82.0\n",
              "2021-09-24 22:00:00  R142  R293  01-06-01  ...  68097914  18815021  60.0\n",
              "\n",
              "[5 rows x 12 columns]"
            ]
          },
          "metadata": {},
          "execution_count": 73
        }
      ]
    },
    {
      "cell_type": "code",
      "metadata": {
        "id": "Ijo5dRmjKqu7"
      },
      "source": [
        ""
      ],
      "execution_count": null,
      "outputs": []
    },
    {
      "cell_type": "code",
      "metadata": {
        "id": "buq8j8icKcjD"
      },
      "source": [
        "# add entries across turnstiles by time\n",
        "entries_turn = entries_turn.reset_index()\n",
        "ct = entries_turn.groupby(['DATETIME'])['DIFFS'].sum().reset_index()"
      ],
      "execution_count": 84,
      "outputs": []
    },
    {
      "cell_type": "code",
      "metadata": {
        "colab": {
          "base_uri": "https://localhost:8080/",
          "height": 237
        },
        "id": "NzPfChC_LXKk",
        "outputId": "9fa8a67b-23e7-4197-d261-bbdcb41753f8"
      },
      "source": [
        "\n",
        "ct.set_index(['DATETIME'], inplace=True)\n",
        "ct.tail()"
      ],
      "execution_count": 85,
      "outputs": [
        {
          "output_type": "execute_result",
          "data": {
            "text/html": [
              "<div>\n",
              "<style scoped>\n",
              "    .dataframe tbody tr th:only-of-type {\n",
              "        vertical-align: middle;\n",
              "    }\n",
              "\n",
              "    .dataframe tbody tr th {\n",
              "        vertical-align: top;\n",
              "    }\n",
              "\n",
              "    .dataframe thead th {\n",
              "        text-align: right;\n",
              "    }\n",
              "</style>\n",
              "<table border=\"1\" class=\"dataframe\">\n",
              "  <thead>\n",
              "    <tr style=\"text-align: right;\">\n",
              "      <th></th>\n",
              "      <th>DIFFS</th>\n",
              "    </tr>\n",
              "    <tr>\n",
              "      <th>DATETIME</th>\n",
              "      <th></th>\n",
              "    </tr>\n",
              "  </thead>\n",
              "  <tbody>\n",
              "    <tr>\n",
              "      <th>2021-09-24 06:00:00</th>\n",
              "      <td>9.0</td>\n",
              "    </tr>\n",
              "    <tr>\n",
              "      <th>2021-09-24 10:00:00</th>\n",
              "      <td>241.0</td>\n",
              "    </tr>\n",
              "    <tr>\n",
              "      <th>2021-09-24 14:00:00</th>\n",
              "      <td>531.0</td>\n",
              "    </tr>\n",
              "    <tr>\n",
              "      <th>2021-09-24 18:00:00</th>\n",
              "      <td>977.0</td>\n",
              "    </tr>\n",
              "    <tr>\n",
              "      <th>2021-09-24 22:00:00</th>\n",
              "      <td>575.0</td>\n",
              "    </tr>\n",
              "  </tbody>\n",
              "</table>\n",
              "</div>"
            ],
            "text/plain": [
              "                     DIFFS\n",
              "DATETIME                  \n",
              "2021-09-24 06:00:00    9.0\n",
              "2021-09-24 10:00:00  241.0\n",
              "2021-09-24 14:00:00  531.0\n",
              "2021-09-24 18:00:00  977.0\n",
              "2021-09-24 22:00:00  575.0"
            ]
          },
          "metadata": {},
          "execution_count": 85
        }
      ]
    },
    {
      "cell_type": "code",
      "metadata": {
        "id": "acd9Uq-wLcgX"
      },
      "source": [
        "#1month\n",
        "we1 = ct[(ct.index > '2021-07-4 05:00:00') & (ct.index < '2021-07-6 00:00:00')]\n",
        "wd1 = ct[(ct.index > '2021-07-6 05:00:00') & (ct.index < '2021-07-11 00:00:00')]\n",
        "we2 = ct[(ct.index > '2021-07-11 05:00:00') & (ct.index < '2021-07-13 00:00:00')]\n",
        "wd2 = ct[(ct.index > '2021-07-13 05:00:00') & (ct.index < '2021-07-18 00:00:00')]\n",
        "we3 = ct[(ct.index > '2021-07-18 05:00:00') & (ct.index < '2021-07-20 00:00:00')]\n",
        "wd3 = ct[(ct.index > '2021-07-20 05:00:00') & (ct.index < '2021-07-25 00:00:00')]\n",
        "\n",
        "#2month\n",
        "we4 = ct[(ct.index > '2021-08-04 05:00:00') & (ct.index < '2021-08-06 00:00:00')]\n",
        "wd4 = ct[(ct.index > '2021-08-06 05:00:00') & (ct.index < '2021-08-11 00:00:00')]\n",
        "we5 = ct[(ct.index > '2021-08-11 05:00:00') & (ct.index < '2021-08-13 00:00:00')]\n",
        "wd5 = ct[(ct.index > '2021-08-13 05:00:00') & (ct.index < '2021-08-18 00:00:00')]\n",
        "we6 = ct[(ct.index > '2021-08-18 05:00:00') & (ct.index < '2021-08-20 00:00:00')]\n",
        "wd6 = ct[(ct.index > '2021-08-20 05:00:00') & (ct.index < '2021-08-25 00:00:00')]\n",
        "#3month\n",
        "we7 = ct[(ct.index > '2021-09-04 05:00:00') & (ct.index < '2021-09-06 00:00:00')]\n",
        "wd7 = ct[(ct.index > '2021-09-06 05:00:00') & (ct.index < '2021-09-11 00:00:00')]\n",
        "we8 = ct[(ct.index > '2021-09-11 05:00:00') & (ct.index < '2021-09-13 00:00:00')]\n",
        "wd8 = ct[(ct.index > '2021-09-13 05:00:00') & (ct.index < '2021-09-18 00:00:00')]\n",
        "we9 = ct[(ct.index > '2021-09-18 05:00:00') & (ct.index < '2021-09-20 00:00:00')]\n",
        "wd9 = ct[(ct.index > '2021-09-20 05:00:00') & (ct.index < '2021-09-25 00:00:00')]"
      ],
      "execution_count": 86,
      "outputs": []
    },
    {
      "cell_type": "code",
      "metadata": {
        "colab": {
          "base_uri": "https://localhost:8080/",
          "height": 296
        },
        "id": "1NE0JpcYwn-v",
        "outputId": "c7fe585e-ad8b-4ee1-9562-42af809cd280"
      },
      "source": [
        "july = ct[(ct.index > '2021-07-01 00:00:00') & (ct.index < '2021-07-30 05:00:00')]\n",
        "august = ct[(ct.index > '2021-08-01 00:00:00') & (ct.index < '2021-08-28 05:00:00')]\n",
        "septemper = ct[(ct.index > '2021-09-01 00:00:00') & (ct.index < '2021-09-30 05:00:00')]\n",
        "sns.countplot(x= ct.index.month , data = ct )"
      ],
      "execution_count": 94,
      "outputs": [
        {
          "output_type": "execute_result",
          "data": {
            "text/plain": [
              "<matplotlib.axes._subplots.AxesSubplot at 0x7fc17935fb50>"
            ]
          },
          "metadata": {},
          "execution_count": 94
        },
        {
          "output_type": "display_data",
          "data": {
            "image/png": "[encoded data removed]",
            "text/plain": [
              "<Figure size 432x288 with 1 Axes>"
            ]
          },
          "metadata": {
            "needs_background": "light"
          }
        }
      ]
    },
    {
      "cell_type": "code",
      "metadata": {
        "colab": {
          "base_uri": "https://localhost:8080/",
          "height": 508
        },
        "id": "qGcAdyt6V_Bw",
        "outputId": "e0e67bef-a792-45dc-b85b-850c5d4ec904"
      },
      "source": [
        "plt.figure(figsize=(11,7))\n",
        "\n",
        "\n",
        "plt.xticks(rotation=70)\n",
        "plt.plot(we2, color = 'navy')\n",
        "plt.plot(wd2, color = '#008080')\n",
        "plt.title('Number of People Entries st-penn for One Week')\n",
        "plt.ylabel('People Entries')"
      ],
      "execution_count": 95,
      "outputs": [
        {
          "output_type": "execute_result",
          "data": {
            "text/plain": [
              "Text(0, 0.5, 'People Entries')"
            ]
          },
          "metadata": {},
          "execution_count": 95
        },
        {
          "output_type": "display_data",
          "data": {
            "image/png": "[encoded data removed]",
            "text/plain": [
              "<Figure size 792x504 with 1 Axes>"
            ]
          },
          "metadata": {
            "needs_background": "light"
          }
        }
      ]
    }
  ]
}